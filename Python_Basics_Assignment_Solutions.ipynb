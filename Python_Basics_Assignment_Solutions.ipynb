{
 "cells": [
  {
   "cell_type": "markdown",
   "id": "f395d808",
   "metadata": {},
   "source": [
    "# Python Basics - Solutions"
   ]
  },
  {
   "cell_type": "markdown",
   "id": "9040fac9",
   "metadata": {},
   "source": [
    "## 1. What is Python, and why is it popular?"
   ]
  },
  {
   "cell_type": "code",
   "execution_count": null,
   "id": "b6c5a8a4",
   "metadata": {},
   "outputs": [],
   "source": [
    "\n",
    "# Answer: Python is a high-level, interpreted, and general-purpose programming language.\n",
    "# It is popular due to its simplicity, readability, vast standard library, active community, \n",
    "# and support for various programming paradigms (e.g., procedural, object-oriented, functional).\n",
    "    "
   ]
  },
  {
   "cell_type": "markdown",
   "id": "9baf30c1",
   "metadata": {},
   "source": [
    "## 2. What is an interpreter in Python?"
   ]
  },
  {
   "cell_type": "code",
   "execution_count": null,
   "id": "49fe88eb",
   "metadata": {},
   "outputs": [],
   "source": [
    "\n",
    "# Answer: An interpreter in Python is a program that reads and executes Python code line by line. \n",
    "# It converts Python instructions into machine code at runtime.\n",
    "    "
   ]
  },
  {
   "cell_type": "markdown",
   "id": "d57534a4",
   "metadata": {},
   "source": [
    "## 3. What are pre-defined keywords in Python?"
   ]
  },
  {
   "cell_type": "code",
   "execution_count": null,
   "id": "6a417ec5",
   "metadata": {},
   "outputs": [],
   "source": [
    "\n",
    "import keyword\n",
    "\n",
    "# List of all predefined keywords in Python\n",
    "print(\"Python Keywords:\", keyword.kwlist)\n",
    "    "
   ]
  },
  {
   "cell_type": "markdown",
   "id": "21301fe6",
   "metadata": {},
   "source": [
    "## 4. Can keywords be used as variable names?"
   ]
  },
  {
   "cell_type": "code",
   "execution_count": null,
   "id": "d59f10b1",
   "metadata": {},
   "outputs": [],
   "source": [
    "\n",
    "# Answer: No, keywords are reserved words in Python and cannot be used as variable names.\n",
    "# Example:\n",
    "try:\n",
    "    def = 10  # This will raise a SyntaxError\n",
    "except SyntaxError as e:\n",
    "    print(\"SyntaxError:\", e)\n",
    "    "
   ]
  },
  {
   "cell_type": "markdown",
   "id": "26644d7a",
   "metadata": {},
   "source": [
    "## 5. What is mutability in Python?"
   ]
  },
  {
   "cell_type": "code",
   "execution_count": null,
   "id": "92c55a7a",
   "metadata": {},
   "outputs": [],
   "source": [
    "\n",
    "# Answer: Mutability refers to whether an object can be changed after its creation.\n",
    "# Mutable objects: Lists, dictionaries, sets.\n",
    "# Immutable objects: Tuples, strings, integers, floats.\n",
    "    "
   ]
  },
  {
   "cell_type": "markdown",
   "id": "2869e808",
   "metadata": {},
   "source": [
    "## 6. Why are lists mutable, but tuples are immutable?"
   ]
  },
  {
   "cell_type": "code",
   "execution_count": null,
   "id": "1ccf2079",
   "metadata": {},
   "outputs": [],
   "source": [
    "\n",
    "# Lists are designed to allow modifications to their elements (add, remove, update).\n",
    "# Tuples are immutable to ensure data integrity and optimize memory usage.\n",
    "    "
   ]
  },
  {
   "cell_type": "markdown",
   "id": "eae541b2",
   "metadata": {},
   "source": [
    "## 7. What is the difference between `==` and `is` operators in Python?"
   ]
  },
  {
   "cell_type": "code",
   "execution_count": null,
   "id": "728b96aa",
   "metadata": {},
   "outputs": [],
   "source": [
    "\n",
    "# `==` checks value equality.\n",
    "# `is` checks object identity (memory location).\n",
    "\n",
    "a = [1, 2, 3]\n",
    "b = [1, 2, 3]\n",
    "print(a == b)  # True: Values are the same\n",
    "print(a is b)  # False: Different objects in memory\n",
    "    "
   ]
  },
  {
   "cell_type": "markdown",
   "id": "30477014",
   "metadata": {},
   "source": [
    "## 8. What are logical operators in Python?"
   ]
  },
  {
   "cell_type": "code",
   "execution_count": null,
   "id": "a249fc40",
   "metadata": {},
   "outputs": [],
   "source": [
    "\n",
    "# Logical operators: and, or, not.\n",
    "x = True\n",
    "y = False\n",
    "print(x and y)  # False\n",
    "print(x or y)   # True\n",
    "print(not x)    # False\n",
    "    "
   ]
  },
  {
   "cell_type": "markdown",
   "id": "c14ef661",
   "metadata": {},
   "source": [
    "## 9. What is type casting in Python?"
   ]
  },
  {
   "cell_type": "code",
   "execution_count": null,
   "id": "254b9a24",
   "metadata": {},
   "outputs": [],
   "source": [
    "\n",
    "# Type casting converts a variable from one type to another.\n",
    "# Example:\n",
    "x = \"10\"\n",
    "print(int(x))  # Converts string to integer\n",
    "    "
   ]
  },
  {
   "cell_type": "markdown",
   "id": "bf1b0a43",
   "metadata": {},
   "source": [
    "## 10. What is the difference between implicit and explicit type casting?"
   ]
  },
  {
   "cell_type": "code",
   "execution_count": null,
   "id": "da53623e",
   "metadata": {},
   "outputs": [],
   "source": [
    "\n",
    "# Implicit: Done automatically by Python.\n",
    "x = 5\n",
    "y = 2.5\n",
    "z = x + y  # x is implicitly converted to float\n",
    "print(z)\n",
    "\n",
    "# Explicit: Manually done using functions like int(), float().\n",
    "a = \"10\"\n",
    "b = int(a)  # Explicit type casting\n",
    "print(b)\n",
    "    "
   ]
  },
  {
   "cell_type": "markdown",
   "id": "b700d41e",
   "metadata": {},
   "source": [
    "## 11. What is the purpose of conditional statements in Python?"
   ]
  },
  {
   "cell_type": "code",
   "execution_count": null,
   "id": "150a3ee6",
   "metadata": {},
   "outputs": [],
   "source": [
    "\n",
    "# Conditional statements control the flow of execution based on conditions.\n",
    "# Example: if, elif, else.\n",
    "x = 10\n",
    "if x > 5:\n",
    "    print(\"x is greater than 5\")\n",
    "else:\n",
    "    print(\"x is 5 or less\")\n",
    "    "
   ]
  },
  {
   "cell_type": "markdown",
   "id": "4de7754b",
   "metadata": {},
   "source": [
    "## 12. How does the `elif` statement work?"
   ]
  },
  {
   "cell_type": "code",
   "execution_count": null,
   "id": "226a8b3e",
   "metadata": {},
   "outputs": [],
   "source": [
    "\n",
    "# `elif` allows checking multiple conditions sequentially.\n",
    "x = 15\n",
    "if x < 10:\n",
    "    print(\"Less than 10\")\n",
    "elif x < 20:\n",
    "    print(\"Between 10 and 20\")\n",
    "else:\n",
    "    print(\"20 or more\")\n",
    "    "
   ]
  },
  {
   "cell_type": "markdown",
   "id": "78cd0824",
   "metadata": {},
   "source": [
    "## 13. What is the difference between `for` and `while` loops?"
   ]
  },
  {
   "cell_type": "code",
   "execution_count": null,
   "id": "38ec1668",
   "metadata": {},
   "outputs": [],
   "source": [
    "\n",
    "# `for`: Iterates over a sequence (e.g., list, range).\n",
    "for i in range(5):\n",
    "    print(i)  # Prints 0 to 4\n",
    "\n",
    "# `while`: Repeats as long as a condition is true.\n",
    "x = 0\n",
    "while x < 5:\n",
    "    print(x)  # Prints 0 to 4\n",
    "    x += 1\n",
    "    "
   ]
  },
  {
   "cell_type": "markdown",
   "id": "74ac93fc",
   "metadata": {},
   "source": [
    "## 14. Describe a scenario where a `while` loop is more suitable than a `for` loop."
   ]
  },
  {
   "cell_type": "code",
   "execution_count": null,
   "id": "188954ae",
   "metadata": {},
   "outputs": [],
   "source": [
    "\n",
    "# Answer: Use `while` when the number of iterations is not predetermined.\n",
    "# Example: Keep taking user input until they enter \"stop\".\n",
    "while True:\n",
    "    user_input = input(\"Enter text (type 'stop' to exit): \")\n",
    "    if user_input.lower() == \"stop\":\n",
    "        break\n",
    "    print(\"You entered:\", user_input)\n",
    "    "
   ]
  },
  {
   "cell_type": "markdown",
   "id": "ce3a772f",
   "metadata": {},
   "source": [
    "## 15. Write a Python program to print \"Hello, World!\""
   ]
  },
  {
   "cell_type": "code",
   "execution_count": null,
   "id": "fb2ba290",
   "metadata": {},
   "outputs": [],
   "source": [
    "\n",
    "print(\"Hello, World!\")\n",
    "    "
   ]
  },
  {
   "cell_type": "markdown",
   "id": "1ba395fe",
   "metadata": {},
   "source": [
    "## 16. Write a Python program that displays your name and age."
   ]
  },
  {
   "cell_type": "code",
   "execution_count": null,
   "id": "5083040f",
   "metadata": {},
   "outputs": [],
   "source": [
    "\n",
    "name = \"Your Name\"\n",
    "age = 25\n",
    "print(f\"My name is {name} and I am {age} years old.\")\n",
    "    "
   ]
  }
 ],
 "metadata": {},
 "nbformat": 4,
 "nbformat_minor": 5
}
