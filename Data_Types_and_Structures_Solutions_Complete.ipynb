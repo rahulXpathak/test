{
 "cells": [
  {
   "cell_type": "markdown",
   "id": "0f01daab",
   "metadata": {},
   "source": [
    "# Solutions for Data Types and Structures - Theoretical Questions"
   ]
  },
  {
   "cell_type": "markdown",
   "id": "eea9c988",
   "metadata": {},
   "source": [
    "\n",
    "## 1. What are data structures, and why are they important?\n",
    "Data structures are organized ways of storing and managing data to enable efficient access and modification. They optimize the performance of algorithms, making programs faster and more efficient.\n"
   ]
  },
  {
   "cell_type": "markdown",
   "id": "8dcc8683",
   "metadata": {},
   "source": [
    "\n",
    "## 2. Explain the difference between mutable and immutable data types with examples.\n",
    "- **Mutable**: Data can be modified after creation (e.g., `list`, `dict`).\n",
    "```python\n",
    "my_list = [1, 2, 3]\n",
    "my_list.append(4)  # Modifies the list\n",
    "```\n",
    "- **Immutable**: Data cannot be changed after creation (e.g., `tuple`, `str`).\n",
    "```python\n",
    "my_tuple = (1, 2, 3)\n",
    "# my_tuple[0] = 0  # Raises TypeError\n",
    "```\n"
   ]
  },
  {
   "cell_type": "markdown",
   "id": "82f296dc",
   "metadata": {},
   "source": [
    "\n",
    "## 3. What are the main differences between lists and tuples in Python?\n",
    "- Lists are mutable, while tuples are immutable.\n",
    "- Lists consume more memory but are flexible; tuples are faster and use less memory.\n"
   ]
  },
  {
   "cell_type": "markdown",
   "id": "91976066",
   "metadata": {},
   "source": [
    "\n",
    "## 4. Describe how dictionaries store data.\n",
    "Dictionaries store data as key-value pairs using a hash table under the hood for quick access.\n"
   ]
  },
  {
   "cell_type": "markdown",
   "id": "7c198b0f",
   "metadata": {},
   "source": [
    "\n",
    "## 5. Why might you use a set instead of a list in Python?\n",
    "Sets are used to store unique elements and allow efficient membership testing.\n"
   ]
  },
  {
   "cell_type": "markdown",
   "id": "865ce9b8",
   "metadata": {},
   "source": [
    "\n",
    "## 6. What is a string in Python, and how is it different from a list?\n",
    "Strings are immutable sequences of characters, while lists are mutable and can store elements of various types.\n"
   ]
  },
  {
   "cell_type": "markdown",
   "id": "cd8e353d",
   "metadata": {},
   "source": [
    "\n",
    "## 7. How do tuples ensure data integrity in Python?\n",
    "Tuples' immutability prevents accidental modifications, ensuring the integrity of the stored data.\n"
   ]
  },
  {
   "cell_type": "markdown",
   "id": "80569697",
   "metadata": {},
   "source": [
    "\n",
    "## 8. What is a hash table, and how does it relate to dictionaries in Python?\n",
    "A hash table maps keys to values using a hash function. Python's dictionaries are implemented using hash tables.\n"
   ]
  },
  {
   "cell_type": "markdown",
   "id": "1aa7da5a",
   "metadata": {},
   "source": [
    "\n",
    "## 9. Can lists contain different data types in Python?\n",
    "Yes, lists can store elements of varying data types:\n",
    "```python\n",
    "mixed_list = [1, \"hello\", 3.14]\n",
    "```\n"
   ]
  },
  {
   "cell_type": "markdown",
   "id": "b198ed44",
   "metadata": {},
   "source": [
    "\n",
    "## 10. Explain why strings are immutable in Python.\n",
    "Strings are immutable to enhance performance and enable safe sharing across different parts of a program.\n"
   ]
  },
  {
   "cell_type": "markdown",
   "id": "9824ad4c",
   "metadata": {},
   "source": [
    "\n",
    "## 11. What advantages do dictionaries offer over lists for certain tasks?\n",
    "Dictionaries provide O(1) average time complexity for lookups, while lists have O(n) complexity.\n"
   ]
  },
  {
   "cell_type": "markdown",
   "id": "e638ba9c",
   "metadata": {},
   "source": [
    "\n",
    "## 12. Describe a scenario where using a tuple would be preferable over a list.\n",
    "Use a tuple when you need an immutable sequence, like representing coordinates or fixed configuration settings.\n"
   ]
  },
  {
   "cell_type": "markdown",
   "id": "30c33ba1",
   "metadata": {},
   "source": [
    "\n",
    "## 13. How do sets handle duplicate values in Python?\n",
    "Sets automatically discard duplicate values.\n"
   ]
  },
  {
   "cell_type": "markdown",
   "id": "a1e1d6b3",
   "metadata": {},
   "source": [
    "\n",
    "## 14. How does the `in` keyword work differently for lists and dictionaries?\n",
    "- For lists, it checks if an element exists.\n",
    "- For dictionaries, it checks for the existence of a key.\n"
   ]
  },
  {
   "cell_type": "markdown",
   "id": "10ad41f2",
   "metadata": {},
   "source": [
    "\n",
    "## 15. Can you modify the elements of a tuple? Explain why or why not.\n",
    "No, because tuples are immutable.\n"
   ]
  },
  {
   "cell_type": "markdown",
   "id": "22b4007c",
   "metadata": {},
   "source": [
    "\n",
    "## 16. What is a nested dictionary, and give an example of its use case.\n",
    "A nested dictionary is a dictionary within a dictionary, useful for hierarchical data:\n",
    "```python\n",
    "nested_dict = {\"user1\": {\"name\": \"Alice\", \"age\": 25}, \"user2\": {\"name\": \"Bob\", \"age\": 30}}\n",
    "```\n"
   ]
  },
  {
   "cell_type": "markdown",
   "id": "d461c8d2",
   "metadata": {},
   "source": [
    "\n",
    "## 17. Describe the time complexity of accessing elements in a dictionary.\n",
    "Average time complexity is O(1).\n"
   ]
  },
  {
   "cell_type": "markdown",
   "id": "a240438a",
   "metadata": {},
   "source": [
    "\n",
    "## 18. In what situations are lists preferred over dictionaries?\n",
    "Lists are preferred when order matters or for sequential data storage.\n"
   ]
  },
  {
   "cell_type": "markdown",
   "id": "d0f46c45",
   "metadata": {},
   "source": [
    "\n",
    "## 19. Why are dictionaries considered unordered, and how does that affect data retrieval?\n",
    "Dictionaries in older Python versions did not maintain order. Although order is preserved in Python 3.7+, the primary retrieval mechanism is still based on keys rather than positions.\n"
   ]
  },
  {
   "cell_type": "markdown",
   "id": "ac7bf88b",
   "metadata": {},
   "source": [
    "\n",
    "## 20. Explain the difference between a list and a dictionary in terms of data retrieval.\n",
    "Lists use positional indexing, while dictionaries retrieve values by key.\n"
   ]
  },
  {
   "cell_type": "markdown",
   "id": "8e99a2c1",
   "metadata": {},
   "source": [
    "# Solutions for Data Types and Structures Questions"
   ]
  },
  {
   "cell_type": "code",
   "execution_count": null,
   "id": "b1a849f5",
   "metadata": {},
   "outputs": [],
   "source": [
    "# 1. Create a string with your name and print it\n",
    "name = \"Rahul Pathak\"\n",
    "print(name)"
   ]
  },
  {
   "cell_type": "code",
   "execution_count": null,
   "id": "25885bcb",
   "metadata": {},
   "outputs": [],
   "source": [
    "# 2. Find the length of the string \"Hello World\"\n",
    "print(len(\"Hello World\"))"
   ]
  },
  {
   "cell_type": "code",
   "execution_count": null,
   "id": "ba2b8948",
   "metadata": {},
   "outputs": [],
   "source": [
    "# 3. Slice the first 3 characters from the string \"Python Programming\"\n",
    "print(\"Python Programming\"[:3])"
   ]
  },
  {
   "cell_type": "code",
   "execution_count": null,
   "id": "f0edf3bb",
   "metadata": {},
   "outputs": [],
   "source": [
    "# 4. Convert the string \"hello\" to uppercase\n",
    "print(\"hello\".upper())"
   ]
  },
  {
   "cell_type": "code",
   "execution_count": null,
   "id": "54bd3677",
   "metadata": {},
   "outputs": [],
   "source": [
    "# 5. Replace \"apple\" with \"orange\" in \"I like apple\"\n",
    "print(\"I like apple\".replace(\"apple\", \"orange\"))"
   ]
  },
  {
   "cell_type": "code",
   "execution_count": null,
   "id": "c8d8653e",
   "metadata": {},
   "outputs": [],
   "source": [
    "# 6. Create a list with numbers 1 to 5 and print it\n",
    "numbers = [1, 2, 3, 4, 5]\n",
    "print(numbers)"
   ]
  },
  {
   "cell_type": "code",
   "execution_count": null,
   "id": "ba01ba2e",
   "metadata": {},
   "outputs": [],
   "source": [
    "# 7. Append 10 to the list [1, 2, 3, 4]\n",
    "my_list = [1, 2, 3, 4]\n",
    "my_list.append(10)\n",
    "print(my_list)"
   ]
  },
  {
   "cell_type": "code",
   "execution_count": null,
   "id": "d56f57fa",
   "metadata": {},
   "outputs": [],
   "source": [
    "# 8. Remove 3 from the list [1, 2, 3, 4, 5]\n",
    "my_list = [1, 2, 3, 4, 5]\n",
    "my_list.remove(3)\n",
    "print(my_list)"
   ]
  },
  {
   "cell_type": "code",
   "execution_count": null,
   "id": "e3258d16",
   "metadata": {},
   "outputs": [],
   "source": [
    "# 9. Access the second element in ['a', 'b', 'c', 'd']\n",
    "print(['a', 'b', 'c', 'd'][1])"
   ]
  },
  {
   "cell_type": "code",
   "execution_count": null,
   "id": "14a496a6",
   "metadata": {},
   "outputs": [],
   "source": [
    "# 10. Reverse the list [10, 20, 30, 40, 50]\n",
    "my_list = [10, 20, 30, 40, 50]\n",
    "my_list.reverse()\n",
    "print(my_list)"
   ]
  },
  {
   "cell_type": "code",
   "execution_count": null,
   "id": "ecd74b28",
   "metadata": {},
   "outputs": [],
   "source": [
    "# 11. Create a tuple with elements 10, 20, 30 and print it\n",
    "my_tuple = (10, 20, 30)\n",
    "print(my_tuple)"
   ]
  },
  {
   "cell_type": "code",
   "execution_count": null,
   "id": "a031e6af",
   "metadata": {},
   "outputs": [],
   "source": [
    "# 12. Access the first element of the tuple ('apple', 'banana', 'cherry')\n",
    "my_tuple = ('apple', 'banana', 'cherry')\n",
    "print(my_tuple[0])"
   ]
  },
  {
   "cell_type": "code",
   "execution_count": null,
   "id": "dc0e3898",
   "metadata": {},
   "outputs": [],
   "source": [
    "# 13. Count how many times 2 appears in (1, 2, 3, 2, 4, 2)\n",
    "my_tuple = (1, 2, 3, 2, 4, 2)\n",
    "print(my_tuple.count(2))"
   ]
  },
  {
   "cell_type": "code",
   "execution_count": null,
   "id": "9a09fb13",
   "metadata": {},
   "outputs": [],
   "source": [
    "# 14. Find the index of \"cat\" in ('dog', 'cat', 'rabbit')\n",
    "my_tuple = ('dog', 'cat', 'rabbit')\n",
    "print(my_tuple.index('cat'))"
   ]
  },
  {
   "cell_type": "code",
   "execution_count": null,
   "id": "545780d6",
   "metadata": {},
   "outputs": [],
   "source": [
    "# 15. Check if \"banana\" is in ('apple', 'orange', 'banana')\n",
    "my_tuple = ('apple', 'orange', 'banana')\n",
    "print('banana' in my_tuple)"
   ]
  },
  {
   "cell_type": "code",
   "execution_count": null,
   "id": "bc23fc1c",
   "metadata": {},
   "outputs": [],
   "source": [
    "# 16. Create a set with elements 1, 2, 3, 4, 5 and print it\n",
    "my_set = {1, 2, 3, 4, 5}\n",
    "print(my_set)"
   ]
  },
  {
   "cell_type": "code",
   "execution_count": null,
   "id": "2f9f18da",
   "metadata": {},
   "outputs": [],
   "source": [
    "# 17. Add the element 6 to the set {1, 2, 3, 4}\n",
    "my_set = {1, 2, 3, 4}\n",
    "my_set.add(6)\n",
    "print(my_set)"
   ]
  },
  {
   "cell_type": "code",
   "execution_count": null,
   "id": "6c88c636",
   "metadata": {},
   "outputs": [],
   "source": [
    "# 18. Create a tuple with elements 10, 20, 30 and print it\n",
    "my_tuple = (10, 20, 30)\n",
    "print(my_tuple)"
   ]
  },
  {
   "cell_type": "code",
   "execution_count": null,
   "id": "abe063c4",
   "metadata": {},
   "outputs": [],
   "source": [
    "# 19. Access the first element of the tuple ('apple', 'banana', 'cherry')\n",
    "my_tuple = ('apple', 'banana', 'cherry')\n",
    "print(my_tuple[0])"
   ]
  },
  {
   "cell_type": "code",
   "execution_count": null,
   "id": "9c711dc1",
   "metadata": {},
   "outputs": [],
   "source": [
    "# 20. Count how many times the number 2 appears in (1, 2, 3, 2, 4, 2)\n",
    "my_tuple = (1, 2, 3, 2, 4, 2)\n",
    "print(my_tuple.count(2))"
   ]
  },
  {
   "cell_type": "code",
   "execution_count": null,
   "id": "1a29a28a",
   "metadata": {},
   "outputs": [],
   "source": [
    "# 21. Find the index of the element \"cat\" in ('dog', 'cat', 'rabbit')\n",
    "my_tuple = ('dog', 'cat', 'rabbit')\n",
    "print(my_tuple.index('cat'))"
   ]
  },
  {
   "cell_type": "code",
   "execution_count": null,
   "id": "4ce37b53",
   "metadata": {},
   "outputs": [],
   "source": [
    "# 22. Check if the element \"banana\" is in ('apple', 'orange', 'banana')\n",
    "my_tuple = ('apple', 'orange', 'banana')\n",
    "print('banana' in my_tuple)"
   ]
  },
  {
   "cell_type": "code",
   "execution_count": null,
   "id": "7e4eaada",
   "metadata": {},
   "outputs": [],
   "source": [
    "# 23. Create a set with elements 1, 2, 3, 4, 5 and print it\n",
    "my_set = {1, 2, 3, 4, 5}\n",
    "print(my_set)"
   ]
  },
  {
   "cell_type": "code",
   "execution_count": null,
   "id": "39bcd875",
   "metadata": {},
   "outputs": [],
   "source": [
    "# 24. Add the element 6 to the set {1, 2, 3, 4}\n",
    "my_set = {1, 2, 3, 4}\n",
    "my_set.add(6)\n",
    "print(my_set)"
   ]
  }
 ],
 "metadata": {},
 "nbformat": 4,
 "nbformat_minor": 5
}