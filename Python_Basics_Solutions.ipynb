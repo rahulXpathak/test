{
 "cells": [
  {
   "cell_type": "markdown",
   "id": "794aaf31",
   "metadata": {},
   "source": [
    "# Python Basics - Assignment Solutions"
   ]
  },
  {
   "cell_type": "markdown",
   "id": "969b600b",
   "metadata": {},
   "source": [
    "## 1. What is Python, and why is it popular?"
   ]
  },
  {
   "cell_type": "code",
   "execution_count": null,
   "id": "ad5bf029",
   "metadata": {},
   "outputs": [],
   "source": [
    "\n",
    "# Answer: Python is a high-level, interpreted, and general-purpose programming language.\n",
    "# It is popular due to its simplicity, readability, vast standard library, active community, \n",
    "# and support for various programming paradigms (e.g., procedural, object-oriented, functional).\n",
    "    "
   ]
  },
  {
   "cell_type": "markdown",
   "id": "d7efd378",
   "metadata": {},
   "source": [
    "## 2. What is an interpreter in Python?"
   ]
  },
  {
   "cell_type": "code",
   "execution_count": null,
   "id": "fa84350c",
   "metadata": {},
   "outputs": [],
   "source": [
    "\n",
    "# Answer: An interpreter in Python is a program that reads and executes Python code line by line. \n",
    "# It converts Python instructions into machine code at runtime.\n",
    "    "
   ]
  },
  {
   "cell_type": "markdown",
   "id": "7a219388",
   "metadata": {},
   "source": [
    "## 3. What are pre-defined keywords in Python?"
   ]
  },
  {
   "cell_type": "code",
   "execution_count": null,
   "id": "15cf3ac8",
   "metadata": {},
   "outputs": [],
   "source": [
    "\n",
    "import keyword\n",
    "\n",
    "# List of all predefined keywords in Python\n",
    "print(\"Python Keywords:\", keyword.kwlist)\n",
    "    "
   ]
  },
  {
   "cell_type": "markdown",
   "id": "c3c9b618",
   "metadata": {},
   "source": [
    "## 4. Can keywords be used as variable names?"
   ]
  },
  {
   "cell_type": "code",
   "execution_count": null,
   "id": "79a94e1e",
   "metadata": {},
   "outputs": [],
   "source": [
    "\n",
    "# Answer: No, keywords are reserved words in Python and cannot be used as variable names.\n",
    "# Example:\n",
    "try:\n",
    "    def = 10  # This will raise a SyntaxError\n",
    "except SyntaxError as e:\n",
    "    print(\"SyntaxError:\", e)\n",
    "    "
   ]
  },
  {
   "cell_type": "markdown",
   "id": "76d74f58",
   "metadata": {},
   "source": [
    "## 5. What is mutability in Python?"
   ]
  },
  {
   "cell_type": "code",
   "execution_count": null,
   "id": "e34ea9fb",
   "metadata": {},
   "outputs": [],
   "source": [
    "\n",
    "# Answer: Mutability refers to whether an object can be changed after its creation.\n",
    "# Mutable objects: Lists, dictionaries, sets.\n",
    "# Immutable objects: Tuples, strings, integers, floats.\n",
    "    "
   ]
  },
  {
   "cell_type": "markdown",
   "id": "ffdf99af",
   "metadata": {},
   "source": [
    "## 6. Why are lists mutable, but tuples are immutable?"
   ]
  },
  {
   "cell_type": "code",
   "execution_count": null,
   "id": "fe0e8d4c",
   "metadata": {},
   "outputs": [],
   "source": [
    "\n",
    "# Lists are designed to allow modifications to their elements (add, remove, update).\n",
    "# Tuples are immutable to ensure data integrity and optimize memory usage.\n",
    "    "
   ]
  },
  {
   "cell_type": "markdown",
   "id": "e84559d6",
   "metadata": {},
   "source": [
    "## 7. What is the difference between `==` and `is` operators in Python?"
   ]
  },
  {
   "cell_type": "code",
   "execution_count": null,
   "id": "88e0af44",
   "metadata": {},
   "outputs": [],
   "source": [
    "\n",
    "# `==` checks value equality.\n",
    "# `is` checks object identity (memory location).\n",
    "\n",
    "a = [1, 2, 3]\n",
    "b = [1, 2, 3]\n",
    "print(a == b)  # True: Values are the same\n",
    "print(a is b)  # False: Different objects in memory\n",
    "    "
   ]
  },
  {
   "cell_type": "markdown",
   "id": "6e421592",
   "metadata": {},
   "source": [
    "## 8. What are logical operators in Python?"
   ]
  },
  {
   "cell_type": "code",
   "execution_count": null,
   "id": "fd4d85b0",
   "metadata": {},
   "outputs": [],
   "source": [
    "\n",
    "# Logical operators: and, or, not.\n",
    "x = True\n",
    "y = False\n",
    "print(x and y)  # False\n",
    "print(x or y)   # True\n",
    "print(not x)    # False\n",
    "    "
   ]
  },
  {
   "cell_type": "markdown",
   "id": "9b80ddaa",
   "metadata": {},
   "source": [
    "## 9. What is type casting in Python?"
   ]
  },
  {
   "cell_type": "code",
   "execution_count": null,
   "id": "ae839450",
   "metadata": {},
   "outputs": [],
   "source": [
    "\n",
    "# Type casting converts a variable from one type to another.\n",
    "# Example:\n",
    "x = \"10\"\n",
    "print(int(x))  # Converts string to integer\n",
    "    "
   ]
  },
  {
   "cell_type": "markdown",
   "id": "d43e26ba",
   "metadata": {},
   "source": [
    "## 10. What is the difference between implicit and explicit type casting?"
   ]
  },
  {
   "cell_type": "code",
   "execution_count": null,
   "id": "0a8c7499",
   "metadata": {},
   "outputs": [],
   "source": [
    "\n",
    "# Implicit: Done automatically by Python.\n",
    "x = 5\n",
    "y = 2.5\n",
    "z = x + y  # x is implicitly converted to float\n",
    "print(z)\n",
    "\n",
    "# Explicit: Manually done using functions like int(), float().\n",
    "a = \"10\"\n",
    "b = int(a)  # Explicit type casting\n",
    "print(b)\n",
    "    "
   ]
  },
  {
   "cell_type": "markdown",
   "id": "67622ea2",
   "metadata": {},
   "source": [
    "## 11. What is the purpose of conditional statements in Python?"
   ]
  },
  {
   "cell_type": "code",
   "execution_count": null,
   "id": "03a8e38d",
   "metadata": {},
   "outputs": [],
   "source": [
    "\n",
    "# Conditional statements control the flow of execution based on conditions.\n",
    "# Example: if, elif, else.\n",
    "x = 10\n",
    "if x > 5:\n",
    "    print(\"x is greater than 5\")\n",
    "else:\n",
    "    print(\"x is 5 or less\")\n",
    "    "
   ]
  },
  {
   "cell_type": "markdown",
   "id": "eb8df740",
   "metadata": {},
   "source": [
    "## 12. How does the `elif` statement work?"
   ]
  },
  {
   "cell_type": "code",
   "execution_count": null,
   "id": "f10d0e4f",
   "metadata": {},
   "outputs": [],
   "source": [
    "\n",
    "# `elif` allows checking multiple conditions sequentially.\n",
    "x = 15\n",
    "if x < 10:\n",
    "    print(\"Less than 10\")\n",
    "elif x < 20:\n",
    "    print(\"Between 10 and 20\")\n",
    "else:\n",
    "    print(\"20 or more\")\n",
    "    "
   ]
  },
  {
   "cell_type": "markdown",
   "id": "61a55930",
   "metadata": {},
   "source": [
    "## 13. What is the difference between `for` and `while` loops?"
   ]
  },
  {
   "cell_type": "code",
   "execution_count": null,
   "id": "fb405f44",
   "metadata": {},
   "outputs": [],
   "source": [
    "\n",
    "# `for`: Iterates over a sequence (e.g., list, range).\n",
    "for i in range(5):\n",
    "    print(i)  # Prints 0 to 4\n",
    "\n",
    "# `while`: Repeats as long as a condition is true.\n",
    "x = 0\n",
    "while x < 5:\n",
    "    print(x)  # Prints 0 to 4\n",
    "    x += 1\n",
    "    "
   ]
  },
  {
   "cell_type": "markdown",
   "id": "d730cfdd",
   "metadata": {},
   "source": [
    "## 14. Describe a scenario where a `while` loop is more suitable than a `for` loop."
   ]
  },
  {
   "cell_type": "code",
   "execution_count": null,
   "id": "c5f2d6f3",
   "metadata": {},
   "outputs": [],
   "source": [
    "\n",
    "# Answer: Use `while` when the number of iterations is not predetermined.\n",
    "# Example: Keep taking user input until they enter \"stop\".\n",
    "while True:\n",
    "    user_input = input(\"Enter text (type 'stop' to exit): \")\n",
    "    if user_input.lower() == \"stop\":\n",
    "        break\n",
    "    print(\"You entered:\", user_input)\n",
    "    "
   ]
  },
  {
   "cell_type": "markdown",
   "id": "22d6a5f7",
   "metadata": {},
   "source": [
    "## 15. Write a Python program to print \"Hello, World!\""
   ]
  },
  {
   "cell_type": "code",
   "execution_count": null,
   "id": "08d2f6fc",
   "metadata": {},
   "outputs": [],
   "source": [
    "\n",
    "print(\"Hello, World!\")\n",
    "    "
   ]
  },
  {
   "cell_type": "markdown",
   "id": "a3655098",
   "metadata": {},
   "source": [
    "## 16. Write a Python program that displays your name and age."
   ]
  },
  {
   "cell_type": "code",
   "execution_count": null,
   "id": "1974b3f5",
   "metadata": {},
   "outputs": [],
   "source": [
    "\n",
    "name = \"Your Name\"\n",
    "age = 25\n",
    "print(f\"My name is {name} and I am {age} years old.\")\n",
    "    "
   ]
  },
  {
   "cell_type": "markdown",
   "id": "506f5166",
   "metadata": {},
   "source": [
    "## 17. Write code to print all the pre-defined keywords in Python using the `keyword` library."
   ]
  },
  {
   "cell_type": "code",
   "execution_count": null,
   "id": "a4416506",
   "metadata": {},
   "outputs": [],
   "source": [
    "\n",
    "import keyword\n",
    "print(keyword.kwlist)\n",
    "    "
   ]
  },
  {
   "cell_type": "markdown",
   "id": "20d4d13d",
   "metadata": {},
   "source": [
    "## 18. Write a program that checks if a given word is a Python keyword."
   ]
  },
  {
   "cell_type": "code",
   "execution_count": null,
   "id": "ee78ef66",
   "metadata": {},
   "outputs": [],
   "source": [
    "\n",
    "import keyword\n",
    "\n",
    "word = \"for\"\n",
    "print(f\"{word} is a keyword: {keyword.iskeyword(word)}\")\n",
    "    "
   ]
  },
  {
   "cell_type": "markdown",
   "id": "8d811443",
   "metadata": {},
   "source": [
    "## 19. Create a list and tuple in Python, and demonstrate how attempting to change an element works differently for each."
   ]
  },
  {
   "cell_type": "code",
   "execution_count": null,
   "id": "0f279798",
   "metadata": {},
   "outputs": [],
   "source": [
    "\n",
    "# List (mutable)\n",
    "my_list = [1, 2, 3]\n",
    "my_list[0] = 10  # Works\n",
    "print(\"Modified list:\", my_list)\n",
    "\n",
    "# Tuple (immutable)\n",
    "my_tuple = (1, 2, 3)\n",
    "try:\n",
    "    my_tuple[0] = 10  # Raises TypeError\n",
    "except TypeError as e:\n",
    "    print(\"Error:\", e)\n",
    "    "
   ]
  },
  {
   "cell_type": "markdown",
   "id": "244f4409",
   "metadata": {},
   "source": [
    "## 20. Write a function to demonstrate the behavior of mutable and immutable arguments."
   ]
  },
  {
   "cell_type": "code",
   "execution_count": null,
   "id": "cb8e3f03",
   "metadata": {},
   "outputs": [],
   "source": [
    "\n",
    "def modify(arg):\n",
    "    if isinstance(arg, list):\n",
    "        arg.append(100)\n",
    "    else:\n",
    "        arg += \"!\"\n",
    "\n",
    "# Mutable\n",
    "lst = [1, 2, 3]\n",
    "modify(lst)\n",
    "print(\"Modified list:\", lst)\n",
    "\n",
    "# Immutable\n",
    "s = \"hello\"\n",
    "modify(s)\n",
    "print(\"Modified string:\", s)\n",
    "    "
   ]
  },
  {
   "cell_type": "markdown",
   "id": "06323b15",
   "metadata": {},
   "source": [
    "## 21. Write a program to demonstrate the use of logical operators."
   ]
  },
  {
   "cell_type": "code",
   "execution_count": null,
   "id": "33ce04a4",
   "metadata": {},
   "outputs": [],
   "source": [
    "\n",
    "a, b = 5, 10\n",
    "print(a > 0 and b > 0)\n",
    "print(a < 0 or b > 0)\n",
    "print(not (a > b))\n",
    "    "
   ]
  },
  {
   "cell_type": "markdown",
   "id": "a0d6946f",
   "metadata": {},
   "source": [
    "## 22. Write a Python program to convert user input from string to integer, float, and boolean types."
   ]
  },
  {
   "cell_type": "code",
   "execution_count": null,
   "id": "50ea2b46",
   "metadata": {},
   "outputs": [],
   "source": [
    "\n",
    "user_input = input(\"Enter a value: \")\n",
    "print(int(user_input), float(user_input), bool(user_input))\n",
    "    "
   ]
  },
  {
   "cell_type": "markdown",
   "id": "27b619ce",
   "metadata": {},
   "source": [
    "## 23. Write code to demonstrate type casting with list elements."
   ]
  },
  {
   "cell_type": "code",
   "execution_count": null,
   "id": "6e0f6ca7",
   "metadata": {},
   "outputs": [],
   "source": [
    "\n",
    "lst = [\"1\", \"2\", \"3\"]\n",
    "int_lst = list(map(int, lst))\n",
    "print(int_lst)\n",
    "    "
   ]
  },
  {
   "cell_type": "markdown",
   "id": "4b63372a",
   "metadata": {},
   "source": [
    "## 24. Write a program that checks if a number is positive, negative, or zero."
   ]
  },
  {
   "cell_type": "code",
   "execution_count": null,
   "id": "bc632352",
   "metadata": {},
   "outputs": [],
   "source": [
    "\n",
    "num = int(input(\"Enter a number: \"))\n",
    "if num > 0:\n",
    "    print(\"Positive\")\n",
    "elif num < 0:\n",
    "    print(\"Negative\")\n",
    "else:\n",
    "    print(\"Zero\")\n",
    "    "
   ]
  },
  {
   "cell_type": "markdown",
   "id": "f81939c4",
   "metadata": {},
   "source": [
    "## 25. Write a `for` loop to print numbers from 1 to 10."
   ]
  },
  {
   "cell_type": "code",
   "execution_count": null,
   "id": "73b68235",
   "metadata": {},
   "outputs": [],
   "source": [
    "\n",
    "for i in range(1, 11):\n",
    "    print(i)\n",
    "    "
   ]
  },
  {
   "cell_type": "markdown",
   "id": "e4f4e710",
   "metadata": {},
   "source": [
    "## 26. Write a Python program to find the sum of all even numbers between 1 and 50."
   ]
  },
  {
   "cell_type": "code",
   "execution_count": null,
   "id": "b6fcafea",
   "metadata": {},
   "outputs": [],
   "source": [
    "\n",
    "even_sum = sum(i for i in range(1, 51) if i % 2 == 0)\n",
    "print(even_sum)\n",
    "    "
   ]
  },
  {
   "cell_type": "markdown",
   "id": "b9ef1b89",
   "metadata": {},
   "source": [
    "## 27. Write a program to reverse a string using a while loop."
   ]
  },
  {
   "cell_type": "code",
   "execution_count": null,
   "id": "7ead0712",
   "metadata": {},
   "outputs": [],
   "source": [
    "\n",
    "s = \"hello\"\n",
    "reversed_str = \"\"\n",
    "i = len(s) - 1\n",
    "while i >= 0:\n",
    "    reversed_str += s[i]\n",
    "    i -= 1\n",
    "print(reversed_str)\n",
    "    "
   ]
  },
  {
   "cell_type": "markdown",
   "id": "243d367b",
   "metadata": {},
   "source": [
    "## 28. Write a Python program to calculate the factorial of a number provided by the user using a while loop."
   ]
  },
  {
   "cell_type": "code",
   "execution_count": null,
   "id": "a7bef849",
   "metadata": {},
   "outputs": [],
   "source": [
    "\n",
    "num = int(input(\"Enter a number: \"))\n",
    "factorial = 1\n",
    "while num > 1:\n",
    "    factorial *= num\n",
    "    num -= 1\n",
    "print(f\"Factorial is {factorial}\")\n",
    "    "
   ]
  }
 ],
 "metadata": {},
 "nbformat": 4,
 "nbformat_minor": 5
}
