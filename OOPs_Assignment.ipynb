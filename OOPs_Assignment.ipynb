{
  "nbformat": 4,
  "nbformat_minor": 0,
  "metadata": {
    "colab": {
      "provenance": []
    },
    "kernelspec": {
      "name": "python3",
      "display_name": "Python 3"
    },
    "language_info": {
      "name": "python"
    }
  },
  "cells": [
    {
      "cell_type": "markdown",
      "source": [
        "# **Python OOPs Assignment**"
      ],
      "metadata": {
        "id": "Y-IuZl8LcN0K"
      }
    },
    {
      "cell_type": "markdown",
      "source": [
        "# ***THEORETICAL QUESTIONS AND ANSWERS***"
      ],
      "metadata": {
        "id": "Aa-mZXIncmnB"
      }
    },
    {
      "cell_type": "markdown",
      "source": [
        "1. What is Object-Oriented Programming (OOP)?\n",
        "\n",
        "Object-Oriented Programming (OOP) is a programming paradigm that organizes software design around objects, which are instances of classes. It emphasizes concepts like encapsulation, inheritance, polymorphism, and abstraction to create modular and reusable code.\n",
        "\n",
        "2. What is a class in OOP?\n",
        "\n",
        "A class is a blueprint or template for creating objects. It defines the properties (attributes) and behaviors (methods) that the objects created from the class will have.\n",
        "\n",
        "3. What is an object in OOP?\n",
        "\n",
        "An object is an instance of a class. It represents a real-world entity and contains data (attributes) and behavior (methods) defined by the class.\n",
        "\n",
        "4. What is the difference between abstraction and encapsulation?\n",
        "\n",
        "Abstraction focuses on hiding the complex implementation details and showing only the essential features of an object.\n",
        "\n",
        "Encapsulation is the bundling of data (attributes) and methods that operate on the data into a single unit (class), and restricting access to some of the object's components.\n",
        "\n",
        "5. What are dunder methods in Python?\n",
        "\n",
        "Dunder methods (double underscore methods) are special methods in Python that start and end with double underscores (e.g., __init__, __str__). They are used to define how objects behave in certain situations, such as initialization, string representation, and operator overloading.\n",
        "\n",
        "6. Explain the concept of inheritance in OOP.\n",
        "\n",
        "Inheritance is a mechanism in OOP that allows a class (child class) to inherit attributes and methods from another class (parent class). It promotes code reuse and establishes a relationship between the parent and child classes.\n",
        "\n",
        "7. What is polymorphism in OOP?\n",
        "\n",
        "Polymorphism allows objects of different classes to be treated as objects of a common superclass. It enables methods to behave differently based on the object that calls them, often achieved through method overriding and method overloading.\n",
        "\n",
        "8. How is encapsulation achieved in Python?\n",
        "\n",
        "Encapsulation in Python is achieved by using private and protected access modifiers. Private attributes are prefixed with double underscores (__), and protected attributes are prefixed with a single underscore (_). This restricts direct access to these attributes from outside the class.\n",
        "\n",
        "9. What is a constructor in Python?\n",
        "\n",
        "A constructor is a special method (__init__) in Python that is automatically called when an object is created. It is used to initialize the object's attributes.\n",
        "\n",
        "10. What are class and static methods in Python?\n",
        "\n",
        "Class methods are methods that are bound to the class rather than the instance. They are defined using the @classmethod decorator and can access or modify class-level attributes.\n",
        "\n",
        "Static methods are methods that do not depend on the class or instance. They are defined using the @staticmethod decorator and do not have access to class or instance attributes.\n",
        "\n",
        "11. What is method overloading in Python?\n",
        "\n",
        "Method overloading allows a class to have multiple methods with the same name but different parameters. Python does not support method overloading directly, but it can be achieved using default arguments or variable-length arguments.\n",
        "\n",
        "12. What is method overriding in OOP?\n",
        "\n",
        "Method overriding occurs when a subclass provides a specific implementation of a method that is already defined in its parent class. The overridden method in the subclass is called instead of the method in the parent class.\n",
        "\n",
        "13. What is a property decorator in Python?\n",
        "\n",
        "The @property decorator in Python is used to define a method as a property, allowing it to be accessed like an attribute. It is often used to create getter, setter, and deleter methods for class attributes.\n",
        "\n",
        "14. Why is polymorphism important in OOP?\n",
        "\n",
        "Polymorphism is important because it allows for flexibility and extensibility in code. It enables a single interface to represent different underlying forms (data types), making it easier to write generic and reusable code.\n",
        "\n",
        "15. What is an abstract class in Python?\n",
        "\n",
        "An abstract class is a class that cannot be instantiated and is meant to be a blueprint for other classes. It contains one or more abstract methods (methods without implementation) that must be implemented by any subclass.\n",
        "\n",
        "16. What are the advantages of OOP?\n",
        "\n",
        "Modularity: Code is organized into reusable modules (classes).\n",
        "\n",
        "Reusability: Classes can be reused across different programs.\n",
        "\n",
        "Maintainability: Code is easier to maintain and update.\n",
        "\n",
        "Scalability: OOP supports large-scale software development.\n",
        "\n",
        "Abstraction: Simplifies complex systems by hiding unnecessary details.\n",
        "\n",
        "17. What is the difference between a class variable and an instance variable?\n",
        "\n",
        "Class variables are shared by all instances of a class and are defined within the class but outside any methods.\n",
        "\n",
        "Instance variables are unique to each instance of a class and are defined within methods, typically in the constructor.\n",
        "\n",
        "18. What is multiple inheritance in Python?\n",
        "\n",
        "Multiple inheritance is a feature in Python where a class can inherit attributes and methods from more than one parent class. This allows for greater flexibility but can also lead to complexity and conflicts.\n",
        "\n",
        "19. Explain the purpose of __str__ and __repr__ methods in Python.\n",
        "\n",
        "__str__ is used to define a user-friendly string representation of an object, typically used for display purposes.\n",
        "\n",
        "__repr__ is used to define an unambiguous string representation of an object, typically used for debugging and development.\n",
        "\n",
        "20. What is the significance of the super() function in Python?\n",
        "\n",
        "The super() function is used to call a method from a parent class. It is often used in inheritance to avoid hardcoding the parent class name and to ensure that the correct method is called.\n",
        "\n",
        "21. What is the significance of the __del__ method in Python?\n",
        "\n",
        "The __del__ method is a destructor in Python that is called when an object is about to be destroyed. It can be used to perform cleanup actions, such as closing files or releasing resources.\n",
        "\n",
        "22. What is the difference between @staticmethod and @classmethod in Python?\n",
        "\n",
        "@staticmethod does not take any implicit first argument (neither self nor cls) and behaves like a regular function.\n",
        "\n",
        "@classmethod takes the class (cls) as its first argument and can access or modify class-level attributes.\n",
        "\n",
        "23. How does polymorphism work in Python with inheritance?\n",
        "\n",
        "Polymorphism in Python with inheritance allows a subclass to override a method from its parent class. When the method is called on an object of the subclass, the overridden method in the subclass is executed instead of the method in the parent class.\n",
        "\n",
        "24. What is method chaining in Python OOP?\n",
        "\n",
        "Method chaining is a technique where multiple methods are called on an object in a single statement. Each method returns the object itself (self), allowing the next method to be called on the same object.\n",
        "\n",
        "25. What is the purpose of the __call__ method in Python?\n",
        "\n",
        "The __call__ method allows an instance of a class to be called as a function. When an object is called, the __call__ method is executed."
      ],
      "metadata": {
        "id": "TaO34VKCJIHl"
      }
    },
    {
      "cell_type": "markdown",
      "source": [
        "# ***PRACTICAL QUESTIONS AND ANSWERS***"
      ],
      "metadata": {
        "id": "n4HYJx1cesIi"
      }
    },
    {
      "cell_type": "code",
      "source": [
        "#1\n",
        "\n",
        "class Animal:\n",
        "    def speak(self):\n",
        "        print(\"Animal speaks\")\n",
        "\n",
        "class Dog(Animal):\n",
        "    def speak(self):\n",
        "        print(\"Bark!\")\n",
        "\n",
        "dog = Dog()\n",
        "dog.speak()  # Output: Bark!"
      ],
      "metadata": {
        "id": "kCkdL4r3fsz9",
        "colab": {
          "base_uri": "https://localhost:8080/"
        },
        "outputId": "6df704d7-8cbd-4a9f-da23-e4da47b6fa1f"
      },
      "execution_count": 14,
      "outputs": [
        {
          "output_type": "stream",
          "name": "stdout",
          "text": [
            "Bark!\n"
          ]
        }
      ]
    },
    {
      "cell_type": "code",
      "source": [
        "#2\n",
        "\n",
        "from abc import ABC, abstractmethod\n",
        "\n",
        "class Shape(ABC):\n",
        "    @abstractmethod\n",
        "    def area(self):\n",
        "        pass\n",
        "\n",
        "class Circle(Shape):\n",
        "    def __init__(self, radius):\n",
        "        self.radius = radius\n",
        "\n",
        "    def area(self):\n",
        "        return 3.14 * self.radius ** 2\n",
        "\n",
        "class Rectangle(Shape):\n",
        "    def __init__(self, length, width):\n",
        "        self.length = length\n",
        "        self.width = width\n",
        "\n",
        "    def area(self):\n",
        "        return self.length * self.width\n",
        "\n",
        "circle = Circle(5)\n",
        "print(circle.area())  # Output: 78.5\n",
        "\n",
        "rectangle = Rectangle(4, 6)\n",
        "print(rectangle.area())  # Output: 24"
      ],
      "metadata": {
        "colab": {
          "base_uri": "https://localhost:8080/"
        },
        "id": "sJogOg1wLtpR",
        "outputId": "38ab67f5-263c-4511-f294-b595a6b344cc"
      },
      "execution_count": 15,
      "outputs": [
        {
          "output_type": "stream",
          "name": "stdout",
          "text": [
            "78.5\n",
            "24\n"
          ]
        }
      ]
    },
    {
      "cell_type": "code",
      "source": [
        "#3\n",
        "\n",
        "class Vehicle:\n",
        "    def __init__(self, type):\n",
        "        self.type = type\n",
        "\n",
        "class Car(Vehicle):\n",
        "    def __init__(self, type, brand):\n",
        "        super().__init__(type)\n",
        "        self.brand = brand\n",
        "\n",
        "class ElectricCar(Car):\n",
        "    def __init__(self, type, brand, battery):\n",
        "        super().__init__(type, brand)\n",
        "        self.battery = battery\n",
        "\n",
        "electric_car = ElectricCar(\"Electric\", \"Tesla\", \"100kWh\")\n",
        "print(electric_car.type)  # Output: Electric\n",
        "print(electric_car.brand)  # Output: Tesla\n",
        "print(electric_car.battery)  # Output: 100kWh"
      ],
      "metadata": {
        "colab": {
          "base_uri": "https://localhost:8080/"
        },
        "id": "coYW5fhxLvaQ",
        "outputId": "636c03ab-1090-429f-b081-cc4b163bf47b"
      },
      "execution_count": 16,
      "outputs": [
        {
          "output_type": "stream",
          "name": "stdout",
          "text": [
            "Electric\n",
            "Tesla\n",
            "100kWh\n"
          ]
        }
      ]
    },
    {
      "cell_type": "code",
      "source": [
        "#4\n",
        "\n",
        "class Bird:\n",
        "    def fly(self):\n",
        "        print(\"Bird is flying\")\n",
        "\n",
        "class Sparrow(Bird):\n",
        "    def fly(self):\n",
        "        print(\"Sparrow is flying\")\n",
        "\n",
        "class Penguin(Bird):\n",
        "    def fly(self):\n",
        "        print(\"Penguin cannot fly\")\n",
        "\n",
        "sparrow = Sparrow()\n",
        "penguin = Penguin()\n",
        "\n",
        "sparrow.fly()  # Output: Sparrow is flying\n",
        "penguin.fly()  # Output: Penguin cannot fly"
      ],
      "metadata": {
        "colab": {
          "base_uri": "https://localhost:8080/"
        },
        "id": "YnBmxrIQLvu8",
        "outputId": "e91e30ca-258f-4c4e-9ea0-7e756dabba29"
      },
      "execution_count": 17,
      "outputs": [
        {
          "output_type": "stream",
          "name": "stdout",
          "text": [
            "Sparrow is flying\n",
            "Penguin cannot fly\n"
          ]
        }
      ]
    },
    {
      "cell_type": "code",
      "source": [
        "#5\n",
        "\n",
        "class BankAccount:\n",
        "    def __init__(self, balance=0):\n",
        "        self.__balance = balance\n",
        "\n",
        "    def deposit(self, amount):\n",
        "        self.__balance += amount\n",
        "\n",
        "    def withdraw(self, amount):\n",
        "        if amount <= self.__balance:\n",
        "            self.__balance -= amount\n",
        "        else:\n",
        "            print(\"Insufficient balance\")\n",
        "\n",
        "    def check_balance(self):\n",
        "        return self.__balance\n",
        "\n",
        "account = BankAccount(100)\n",
        "account.deposit(50)\n",
        "print(account.check_balance())  # Output: 150\n",
        "account.withdraw(30)\n",
        "print(account.check_balance())  # Output: 120"
      ],
      "metadata": {
        "colab": {
          "base_uri": "https://localhost:8080/"
        },
        "id": "UELXBECDLwOI",
        "outputId": "b8cc123c-3e09-425b-de36-14faf230388f"
      },
      "execution_count": 18,
      "outputs": [
        {
          "output_type": "stream",
          "name": "stdout",
          "text": [
            "150\n",
            "120\n"
          ]
        }
      ]
    },
    {
      "cell_type": "code",
      "source": [
        "#6\n",
        "\n",
        "class Instrument:\n",
        "    def play(self):\n",
        "        print(\"Instrument is playing\")\n",
        "\n",
        "class Guitar(Instrument):\n",
        "    def play(self):\n",
        "        print(\"Guitar is playing\")\n",
        "\n",
        "class Piano(Instrument):\n",
        "    def play(self):\n",
        "        print(\"Piano is playing\")\n",
        "\n",
        "def play_instrument(instrument):\n",
        "    instrument.play()\n",
        "\n",
        "guitar = Guitar()\n",
        "piano = Piano()\n",
        "\n",
        "play_instrument(guitar)  # Output: Guitar is playing\n",
        "play_instrument(piano)  # Output: Piano is playing"
      ],
      "metadata": {
        "colab": {
          "base_uri": "https://localhost:8080/"
        },
        "id": "7rsJcQGtL32i",
        "outputId": "909989fa-3e68-45a7-db9a-ba9e55ee7b70"
      },
      "execution_count": 19,
      "outputs": [
        {
          "output_type": "stream",
          "name": "stdout",
          "text": [
            "Guitar is playing\n",
            "Piano is playing\n"
          ]
        }
      ]
    },
    {
      "cell_type": "code",
      "source": [
        "#7\n",
        "\n",
        "class MathOperations:\n",
        "    @classmethod\n",
        "    def add_numbers(cls, a, b):\n",
        "        return a + b\n",
        "\n",
        "    @staticmethod\n",
        "    def subtract_numbers(a, b):\n",
        "        return a - b\n",
        "\n",
        "print(MathOperations.add_numbers(5, 3))  # Output: 8\n",
        "print(MathOperations.subtract_numbers(5, 3))  # Output: 2"
      ],
      "metadata": {
        "colab": {
          "base_uri": "https://localhost:8080/"
        },
        "id": "IQqaSzucL5WX",
        "outputId": "49147402-6658-463a-af7a-a695e305f7db"
      },
      "execution_count": 20,
      "outputs": [
        {
          "output_type": "stream",
          "name": "stdout",
          "text": [
            "8\n",
            "2\n"
          ]
        }
      ]
    },
    {
      "cell_type": "code",
      "source": [
        "#8\n",
        "\n",
        "class Person:\n",
        "    count = 0\n",
        "\n",
        "    def __init__(self):\n",
        "        Person.count += 1\n",
        "\n",
        "    @classmethod\n",
        "    def total_persons(cls):\n",
        "        return cls.count\n",
        "\n",
        "p1 = Person()\n",
        "p2 = Person()\n",
        "print(Person.total_persons())  # Output: 2"
      ],
      "metadata": {
        "colab": {
          "base_uri": "https://localhost:8080/"
        },
        "id": "fxpCTCFOL6yF",
        "outputId": "52a2f96b-c575-4180-a992-2dde91231c16"
      },
      "execution_count": 22,
      "outputs": [
        {
          "output_type": "stream",
          "name": "stdout",
          "text": [
            "2\n"
          ]
        }
      ]
    },
    {
      "cell_type": "code",
      "source": [
        "#9\n",
        "\n",
        "class Fraction:\n",
        "    def __init__(self, numerator, denominator):\n",
        "        self.numerator = numerator\n",
        "        self.denominator = denominator\n",
        "\n",
        "    def __str__(self):\n",
        "        return f\"{self.numerator}/{self.denominator}\"\n",
        "\n",
        "fraction = Fraction(3, 4)\n",
        "print(fraction)  # Output: 3/4"
      ],
      "metadata": {
        "colab": {
          "base_uri": "https://localhost:8080/"
        },
        "id": "YK7qxBtZL7h6",
        "outputId": "b85047de-c6c2-420c-ae1b-26cf9e0cbb3e"
      },
      "execution_count": 23,
      "outputs": [
        {
          "output_type": "stream",
          "name": "stdout",
          "text": [
            "3/4\n"
          ]
        }
      ]
    },
    {
      "cell_type": "code",
      "source": [
        "#10\n",
        "\n",
        "class Vector:\n",
        "    def __init__(self, x, y):\n",
        "        self.x = x\n",
        "        self.y = y\n",
        "\n",
        "    def __add__(self, other):\n",
        "        return Vector(self.x + other.x, self.y + other.y)\n",
        "\n",
        "    def __str__(self):\n",
        "        return f\"({self.x}, {self.y})\"\n",
        "\n",
        "v1 = Vector(2, 3)\n",
        "v2 = Vector(4, 5)\n",
        "v3 = v1 + v2\n",
        "print(v3)  # Output: (6, 8)"
      ],
      "metadata": {
        "colab": {
          "base_uri": "https://localhost:8080/"
        },
        "id": "iHZUswlgL8sq",
        "outputId": "c1c4c9c7-4541-45e0-dce5-ee7a8dc3e078"
      },
      "execution_count": 24,
      "outputs": [
        {
          "output_type": "stream",
          "name": "stdout",
          "text": [
            "(6, 8)\n"
          ]
        }
      ]
    },
    {
      "cell_type": "code",
      "source": [
        "#11\n",
        "\n",
        "class Person:\n",
        "    def __init__(self, name, age):\n",
        "        self.name = name\n",
        "        self.age = age\n",
        "\n",
        "    def greet(self):\n",
        "        print(f\"Hello, my name is {self.name} and I am {self.age} years old.\")\n",
        "\n",
        "person = Person(\"Alice\", 30)\n",
        "person.greet()  # Output: Hello, my name is Alice and I am 30 years old."
      ],
      "metadata": {
        "colab": {
          "base_uri": "https://localhost:8080/"
        },
        "id": "E5VDmJqlL9YA",
        "outputId": "b47cebca-4ace-4735-d751-579efeb80f1c"
      },
      "execution_count": 25,
      "outputs": [
        {
          "output_type": "stream",
          "name": "stdout",
          "text": [
            "Hello, my name is Alice and I am 30 years old.\n"
          ]
        }
      ]
    },
    {
      "cell_type": "code",
      "source": [
        "#12\n",
        "\n",
        "class Student:\n",
        "    def __init__(self, name, grades):\n",
        "        self.name = name\n",
        "        self.grades = grades\n",
        "\n",
        "    def average_grade(self):\n",
        "        return sum(self.grades) / len(self.grades)\n",
        "\n",
        "student = Student(\"Bob\", [85, 90, 78, 92])\n",
        "print(student.average_grade())  # Output: 86.25"
      ],
      "metadata": {
        "colab": {
          "base_uri": "https://localhost:8080/"
        },
        "id": "2xSyGSSoL-NU",
        "outputId": "8e816eb1-45da-472b-e63e-7747e564b85e"
      },
      "execution_count": 26,
      "outputs": [
        {
          "output_type": "stream",
          "name": "stdout",
          "text": [
            "86.25\n"
          ]
        }
      ]
    },
    {
      "cell_type": "code",
      "source": [
        "#13\n",
        "\n",
        "class Rectangle:\n",
        "    def __init__(self, length, width):\n",
        "        self.length = length\n",
        "        self.width = width\n",
        "\n",
        "    def set_dimensions(self, length, width):\n",
        "        self.length = length\n",
        "        self.width = width\n",
        "\n",
        "    def area(self):\n",
        "        return self.length * self.width\n",
        "\n",
        "rectangle = Rectangle(4, 5)\n",
        "print(rectangle.area())  # Output: 20\n",
        "rectangle.set_dimensions(6, 7)\n",
        "print(rectangle.area())  # Output: 42"
      ],
      "metadata": {
        "colab": {
          "base_uri": "https://localhost:8080/"
        },
        "id": "QmKZRwOWL-6P",
        "outputId": "9e4ac8a6-85b1-4f18-d968-b58808e3dcac"
      },
      "execution_count": 27,
      "outputs": [
        {
          "output_type": "stream",
          "name": "stdout",
          "text": [
            "20\n",
            "42\n"
          ]
        }
      ]
    },
    {
      "cell_type": "code",
      "source": [
        "#14\n",
        "\n",
        "class Employee:\n",
        "    def __init__(self, hours_worked, hourly_rate):\n",
        "        self.hours_worked = hours_worked\n",
        "        self.hourly_rate = hourly_rate\n",
        "\n",
        "    def calculate_salary(self):\n",
        "        return self.hours_worked * self.hourly_rate\n",
        "\n",
        "class Manager(Employee):\n",
        "    def __init__(self, hours_worked, hourly_rate, bonus):\n",
        "        super().__init__(hours_worked, hourly_rate)\n",
        "        self.bonus = bonus\n",
        "\n",
        "    def calculate_salary(self):\n",
        "        return super().calculate_salary() + self.bonus\n",
        "\n",
        "manager = Manager(40, 20, 500)\n",
        "print(manager.calculate_salary())  # Output: 1300"
      ],
      "metadata": {
        "colab": {
          "base_uri": "https://localhost:8080/"
        },
        "id": "b4JvDkLNL_nB",
        "outputId": "76736369-0125-419d-d616-75d7e8a31cdd"
      },
      "execution_count": 28,
      "outputs": [
        {
          "output_type": "stream",
          "name": "stdout",
          "text": [
            "1300\n"
          ]
        }
      ]
    },
    {
      "cell_type": "code",
      "source": [
        "#15\n",
        "\n",
        "class Product:\n",
        "    def __init__(self, name, price, quantity):\n",
        "        self.name = name\n",
        "        self.price = price\n",
        "        self.quantity = quantity\n",
        "\n",
        "    def total_price(self):\n",
        "        return self.price * self.quantity\n",
        "\n",
        "product = Product(\"Laptop\", 1000, 2)\n",
        "print(product.total_price())  # Output: 2000"
      ],
      "metadata": {
        "colab": {
          "base_uri": "https://localhost:8080/"
        },
        "id": "1QDVtekZMAY0",
        "outputId": "528e2380-a2f3-47fd-c099-74dc53deb1f4"
      },
      "execution_count": 29,
      "outputs": [
        {
          "output_type": "stream",
          "name": "stdout",
          "text": [
            "2000\n"
          ]
        }
      ]
    },
    {
      "cell_type": "code",
      "source": [
        "#16\n",
        "\n",
        "from abc import ABC, abstractmethod\n",
        "\n",
        "class Animal(ABC):\n",
        "    @abstractmethod\n",
        "    def sound(self):\n",
        "        pass\n",
        "\n",
        "class Cow(Animal):\n",
        "    def sound(self):\n",
        "        print(\"Moo\")\n",
        "\n",
        "class Sheep(Animal):\n",
        "    def sound(self):\n",
        "        print(\"Baa\")\n",
        "\n",
        "cow = Cow()\n",
        "cow.sound()  # Output: Moo\n",
        "\n",
        "sheep = Sheep()\n",
        "sheep.sound()  # Output: Baa"
      ],
      "metadata": {
        "colab": {
          "base_uri": "https://localhost:8080/"
        },
        "id": "j-leCrqhMBGK",
        "outputId": "4e1d4493-a63f-477e-ca13-b39b8ab74480"
      },
      "execution_count": 30,
      "outputs": [
        {
          "output_type": "stream",
          "name": "stdout",
          "text": [
            "Moo\n",
            "Baa\n"
          ]
        }
      ]
    },
    {
      "cell_type": "code",
      "source": [
        "#17\n",
        "\n",
        "class Book:\n",
        "    def __init__(self, title, author, year_published):\n",
        "        self.title = title\n",
        "        self.author = author\n",
        "        self.year_published = year_published\n",
        "\n",
        "    def get_book_info(self):\n",
        "        return f\"'{self.title}' by {self.author}, published in {self.year_published}\"\n",
        "\n",
        "book = Book(\"1984\", \"George Orwell\", 1949)\n",
        "print(book.get_book_info())  # Output: '1984' by George Orwell"
      ],
      "metadata": {
        "colab": {
          "base_uri": "https://localhost:8080/"
        },
        "id": "NUP-vP0EMB0U",
        "outputId": "8534d767-38ce-47c0-846b-6314e08a4c74"
      },
      "execution_count": 31,
      "outputs": [
        {
          "output_type": "stream",
          "name": "stdout",
          "text": [
            "'1984' by George Orwell, published in 1949\n"
          ]
        }
      ]
    },
    {
      "cell_type": "code",
      "source": [],
      "metadata": {
        "id": "A5SNBcqQMDSp"
      },
      "execution_count": null,
      "outputs": []
    }
  ]
}