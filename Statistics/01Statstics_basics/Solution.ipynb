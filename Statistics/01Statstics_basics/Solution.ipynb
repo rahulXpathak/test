{
 "cells": [
  {
   "cell_type": "markdown",
   "id": "8e8d3a69",
   "metadata": {},
   "source": [
    "### What is statistics, and why is it important?\n",
    "\n",
    "Statistics is the branch of mathematics that deals with collecting, analyzing, interpreting, presenting, and organizing data. It is important because it helps in making data-driven decisions, identifying trends, and drawing conclusions in various fields like business, healthcare, and research."
   ]
  },
  {
   "cell_type": "markdown",
   "id": "5c25a462",
   "metadata": {},
   "source": [
    "### What are the two main types of statistics?\n",
    "\n",
    "- **Descriptive Statistics**: Summarizes and describes features of a dataset (e.g., mean, median, mode).\n",
    "- **Inferential Statistics**: Makes predictions or inferences about a population based on a sample (e.g., hypothesis testing, confidence intervals)."
   ]
  },
  {
   "cell_type": "markdown",
   "id": "c0ac3931",
   "metadata": {},
   "source": [
    "### What are descriptive statistics?\n",
    "\n",
    "Descriptive statistics summarize and present data in a meaningful way. Common measures include central tendency (mean, median, mode) and dispersion (variance, standard deviation, range)."
   ]
  },
  {
   "cell_type": "markdown",
   "id": "128d0d1b",
   "metadata": {},
   "source": [
    "### What is inferential statistics?\n",
    "\n",
    "Inferential statistics use sample data to make predictions or generalizations about a larger population. It includes hypothesis testing, confidence intervals, and regression analysis."
   ]
  },
  {
   "cell_type": "markdown",
   "id": "698f4d4a",
   "metadata": {},
   "source": [
    "### What is sampling in statistics?\n",
    "\n",
    "Sampling is the process of selecting a subset of individuals from a population to represent the entire group."
   ]
  },
  {
   "cell_type": "markdown",
   "id": "3693ef9c",
   "metadata": {},
   "source": [
    "### What are the different types of sampling methods?\n",
    "\n",
    "- **Random Sampling**: Every individual has an equal chance of being selected.\n",
    "- **Stratified Sampling**: Population is divided into subgroups, and samples are taken from each.\n",
    "- **Systematic Sampling**: Every nth individual is selected.\n",
    "- **Cluster Sampling**: Population is divided into clusters, and entire clusters are randomly selected.\n",
    "- **Convenience Sampling**: Selecting subjects that are easiest to reach."
   ]
  },
  {
   "cell_type": "markdown",
   "id": "b40cc0a2",
   "metadata": {},
   "source": [
    "### What is the difference between random and non-random sampling?\n",
    "\n",
    "- **Random Sampling**: Every member has an equal chance of being selected.\n",
    "- **Non-Random Sampling**: Selection is based on convenience, judgment, or other non-random criteria."
   ]
  },
  {
   "cell_type": "markdown",
   "id": "d2cb15d6",
   "metadata": {},
   "source": [
    "### Define and give examples of qualitative and quantitative data.\n",
    "\n",
    "- **Qualitative Data**: Descriptive data (e.g., colors, names, categories). Example: 'Blue', 'Male', 'Low'.\n",
    "- **Quantitative Data**: Numerical data that can be measured. Example: Height = 170 cm, Age = 25 years."
   ]
  },
  {
   "cell_type": "markdown",
   "id": "01554751",
   "metadata": {},
   "source": [
    "### What are the different types of data in statistics?\n",
    "\n",
    "- **Nominal**: Categories without order (e.g., colors, gender).\n",
    "- **Ordinal**: Categories with order but no fixed differences (e.g., ratings: poor, average, good).\n",
    "- **Interval**: Numeric data with meaningful differences but no true zero (e.g., temperature in Celsius).\n",
    "- **Ratio**: Numeric data with a true zero, allowing for meaningful ratios (e.g., weight, height, age)."
   ]
  },
  {
   "cell_type": "markdown",
   "id": "25d593e1",
   "metadata": {},
   "source": [
    "### Explain nominal, ordinal, interval, and ratio levels of measurement.\n",
    "\n",
    "- **Nominal**: Categories (e.g., colors, nationality).\n",
    "- **Ordinal**: Ordered categories (e.g., rankings, satisfaction levels).\n",
    "- **Interval**: Ordered with meaningful differences but no true zero (e.g., temperature in Celsius).\n",
    "- **Ratio**: Ordered with meaningful differences and a true zero (e.g., weight, distance)."
   ]
  },
  {
   "cell_type": "markdown",
   "id": "877b27b5",
   "metadata": {},
   "source": [
    "### What is the measure of central tendency?\n",
    "\n",
    "It describes the center or typical value of a dataset using mean, median, and mode."
   ]
  },
  {
   "cell_type": "markdown",
   "id": "9fe15495",
   "metadata": {},
   "source": [
    "### Define mean, median, and mode.\n",
    "\n",
    "- **Mean**: Average value.\n",
    "- **Median**: Middle value when sorted.\n",
    "- **Mode**: Most frequently occurring value."
   ]
  },
  {
   "cell_type": "markdown",
   "id": "39e99a7f",
   "metadata": {},
   "source": [
    "### What is the significance of the measure of central tendency?\n",
    "\n",
    "It provides a summary of the data's central value and helps in comparison and decision-making."
   ]
  },
  {
   "cell_type": "markdown",
   "id": "5891e0b1",
   "metadata": {},
   "source": [
    "### What is variance, and how is it calculated?\n",
    "\n",
    "Variance measures data dispersion. It is calculated as:\n",
    "Variance = Σ(x_i - mean)^2 / n"
   ]
  },
  {
   "cell_type": "markdown",
   "id": "3d1c563d",
   "metadata": {},
   "source": [
    "### What is standard deviation, and why is it important?\n",
    "\n",
    "Standard deviation is the square root of variance and measures data spread. It is important for understanding data consistency."
   ]
  },
  {
   "cell_type": "markdown",
   "id": "1ccd7ddb",
   "metadata": {},
   "source": [
    "### Define and explain the term range in statistics.\n",
    "\n",
    "Range is the difference between the maximum and minimum values in a dataset."
   ]
  },
  {
   "cell_type": "markdown",
   "id": "e235c9a3",
   "metadata": {},
   "source": [
    "### What is the difference between variance and standard deviation?\n",
    "\n",
    "Variance is the average squared deviation from the mean, while standard deviation is the square root of variance."
   ]
  },
  {
   "cell_type": "markdown",
   "id": "c2d14128",
   "metadata": {},
   "source": [
    "### What is skewness in a dataset?\n",
    "\n",
    "Skewness measures the asymmetry of data distribution."
   ]
  },
  {
   "cell_type": "markdown",
   "id": "6a3bb061",
   "metadata": {},
   "source": [
    "### What does it mean if a dataset is positively or negatively skewed?\n",
    "\n",
    "- **Positively skewed**: Right tail is longer, meaning most values are on the left.\n",
    "- **Negatively skewed**: Left tail is longer, meaning most values are on the right."
   ]
  },
  {
   "cell_type": "markdown",
   "id": "7fb6a7c2",
   "metadata": {},
   "source": [
    "### Define and explain kurtosis.\n",
    "\n",
    "Kurtosis measures the 'tailedness' of a distribution.\n",
    "- **High kurtosis**: Heavy tails.\n",
    "- **Low kurtosis**: Light tails."
   ]
  },
  {
   "cell_type": "markdown",
   "id": "c2330ccf",
   "metadata": {},
   "source": [
    "### What is the purpose of covariance?\n",
    "\n",
    "Covariance measures the relationship between two variables."
   ]
  },
  {
   "cell_type": "markdown",
   "id": "b082d1a6",
   "metadata": {},
   "source": [
    "### What does correlation measure in statistics?\n",
    "\n",
    "Correlation measures the strength and direction of a relationship between two variables."
   ]
  },
  {
   "cell_type": "markdown",
   "id": "fa9b0eed",
   "metadata": {},
   "source": [
    "### What is the difference between covariance and correlation?\n",
    "\n",
    "- **Covariance**: Measures how two variables move together but has no fixed range.\n",
    "- **Correlation**: Standardized measure of relationship strength between -1 and 1."
   ]
  },
  {
   "cell_type": "markdown",
   "id": "5783f08d",
   "metadata": {},
   "source": [
    "### What are some real-world applications of statistics?\n",
    "\n",
    "- Business forecasting\n",
    "- Healthcare analytics\n",
    "- Financial risk assessment\n",
    "- Quality control in manufacturing\n",
    "- Sports analytics"
   ]
  },
  {
   "cell_type": "code",
   "execution_count": null,
   "id": "af5fec5f",
   "metadata": {},
   "outputs": [],
   "source": [
    "import pandas as pd\n",
    "import numpy as np\n",
    "import seaborn as sns\n",
    "import matplotlib.pyplot as plt\n",
    "from scipy.stats import zscore, skew, kurtosis, pearsonr, spearmanr, mode\n",
    "from sklearn.model_selection import train_test_split\n",
    "\n",
    "# 1. Calculate the mean, median, and mode of a dataset\n",
    "data_vals = [10, 20, 30, 40, 50]\n",
    "mean_val = np.mean(data_vals)\n",
    "median_val = np.median(data_vals)\n",
    "mode_val, _ = mode(data_vals)\n",
    "print(\"Mean:\", mean_val)\n",
    "print(\"Median:\", median_val)\n",
    "print(\"Mode:\", mode_val[0])\n",
    "\n",
    "# 2. Compute the variance and standard deviation of a dataset\n",
    "variance = np.var(data_vals, ddof=1)\n",
    "std_dev = np.std(data_vals, ddof=1)\n",
    "print(\"Variance:\", variance)\n",
    "print(\"Standard Deviation:\", std_dev)\n",
    "\n",
    "# 3. Create a dataset and classify it into nominal, ordinal, interval, and ratio types\n",
    "dataset_types = {\n",
    "    'Nominal': ['Red', 'Blue', 'Green', 'Yellow', 'Black'],\n",
    "    'Ordinal': ['Low', 'Medium', 'High', 'Very High'],\n",
    "    'Interval': [10, 20, 30, 40, 50],\n",
    "    'Ratio': [1, 2, 4, 8, 16]\n",
    "}\n",
    "df_types = pd.DataFrame(dict([(k, pd.Series(v)) for k,v in dataset_types.items()]))\n",
    "print(\"Dataset Classification:\")\n",
    "print(df_types)\n",
    "\n",
    "# 4. Implement sampling techniques like random sampling and stratified sampling\n",
    "data = {\n",
    "    'Age': [25, 30, 35, 40, 45, 50, 55, 60, 65, 70],\n",
    "    'Salary': [40000, 45000, 50000, 60000, 70000, 75000, 80000, 85000, 90000, 95000]\n",
    "}\n",
    "df = pd.DataFrame(data)\n",
    "random_sample = df.sample(n=5)\n",
    "strata_sample, _ = train_test_split(df, test_size=0.5, stratify=df[['Age']])\n",
    "print(\"Random Sampling:\")\n",
    "print(random_sample)\n",
    "print(\"Stratified Sampling:\")\n",
    "print(strata_sample)\n",
    "\n",
    "# 5. Write a Python function to calculate the range of a dataset\n",
    "def calculate_range(dataset):\n",
    "    return max(dataset) - min(dataset)\n",
    "\n",
    "range_val = calculate_range(data_vals)\n",
    "print(\"Range:\", range_val)\n",
    "\n",
    "# 6. Create a dataset and plot its histogram to visualize skewness\n",
    "data_skew = np.random.normal(50, 10, 1000)\n",
    "sns.histplot(data_skew, kde=True)\n",
    "plt.title(\"Histogram for Skewness\")\n",
    "plt.show()\n",
    "\n",
    "# 7. Calculate skewness and kurtosis of a dataset\n",
    "print(\"Skewness:\", skew(data_skew))\n",
    "print(\"Kurtosis:\", kurtosis(data_skew))\n",
    "\n",
    "# 8. Generate a dataset and demonstrate positive and negative skewness\n",
    "pos_skew_data = np.random.exponential(scale=2, size=1000)\n",
    "neg_skew_data = np.random.normal(loc=50, scale=10, size=1000) ** 2\n",
    "sns.histplot(pos_skew_data, kde=True)\n",
    "plt.title(\"Positively Skewed Data\")\n",
    "plt.show()\n",
    "sns.histplot(neg_skew_data, kde=True)\n",
    "plt.title(\"Negatively Skewed Data\")\n",
    "plt.show()\n",
    "\n",
    "# 9. Write a Python script to calculate covariance between two datasets\n",
    "x = np.random.rand(10)\n",
    "y = np.random.rand(10)\n",
    "covariance = np.cov(x, y)[0, 1]\n",
    "print(\"Covariance:\", covariance)\n",
    "\n",
    "# 10. Write a Python script to calculate the correlation coefficient between two datasets\n",
    "pearson_corr, _ = pearsonr(x, y)\n",
    "spearman_corr, _ = spearmanr(x, y)\n",
    "print(\"Pearson Correlation:\", pearson_corr)\n",
    "print(\"Spearman Correlation:\", spearman_corr)\n",
    "\n",
    "# 11. Create a scatter plot to visualize the relationship between two variables\n",
    "plt.scatter(x, y)\n",
    "plt.xlabel(\"Variable X\")\n",
    "plt.ylabel(\"Variable Y\")\n",
    "plt.title(\"Scatter Plot of Two Variables\")\n",
    "plt.show()\n",
    "\n",
    "# 12. Implement and compare simple random sampling and systematic sampling\n",
    "systematic_sample = df.iloc[::2]\n",
    "print(\"Systematic Sampling:\")\n",
    "print(systematic_sample)\n",
    "\n",
    "# 13. Calculate the mean, median, and mode of grouped data\n",
    "grouped_data = df.groupby('Age').mean()\n",
    "print(\"Grouped Data Mean:\")\n",
    "print(grouped_data)\n",
    "\n",
    "# 14. Simulate data using Python and calculate its central tendency and dispersion\n",
    "simulated_data = np.random.normal(100, 15, 1000)\n",
    "print(\"Simulated Data Mean:\", np.mean(simulated_data))\n",
    "print(\"Simulated Data Standard Deviation:\", np.std(simulated_data))"
   ]
  },
  {
   "cell_type": "code",
   "execution_count": null,
   "id": "5ff75f16",
   "metadata": {},
   "outputs": [],
   "source": [
    "import pandas as pd\n",
    "import numpy as np\n",
    "import seaborn as sns\n",
    "import matplotlib.pyplot as plt\n",
    "from scipy.stats import zscore, skew, kurtosis, pearsonr, spearmanr, mode\n",
    "\n",
    "# 15. Use NumPy or pandas to summarize a dataset’s descriptive statistics\n",
    "data = {\n",
    "    'Age': [25, 30, 35, 40, 45, 50, 55, 60, 65, 70],\n",
    "    'Salary': [40000, 45000, 50000, 60000, 70000, 75000, 80000, 85000, 90000, 95000]\n",
    "}\n",
    "df = pd.DataFrame(data)\n",
    "print(df.describe())\n",
    "\n",
    "# 16. Plot a boxplot to understand the spread and identify outliers\n",
    "sns.boxplot(y=df['Salary'])\n",
    "plt.title(\"Boxplot of Salary Distribution\")\n",
    "plt.show()\n",
    "\n",
    "# 17. Calculate the interquartile range (IQR) of a dataset\n",
    "Q1 = df['Salary'].quantile(0.25)\n",
    "Q3 = df['Salary'].quantile(0.75)\n",
    "IQR = Q3 - Q1\n",
    "print(\"Interquartile Range (IQR):\", IQR)\n",
    "\n",
    "# 18. Implement Z-score normalization and explain its significance\n",
    "df['Salary_Zscore'] = zscore(df['Salary'])\n",
    "print(df[['Salary', 'Salary_Zscore']])\n",
    "\n",
    "# 19. Compare two datasets using their standard deviations\n",
    "dataset1 = np.array([10, 20, 30, 40, 50])\n",
    "dataset2 = np.array([5, 15, 25, 35, 45])\n",
    "std1 = np.std(dataset1, ddof=1)\n",
    "std2 = np.std(dataset2, ddof=1)\n",
    "print(\"Standard Deviation of Dataset 1:\", std1)\n",
    "print(\"Standard Deviation of Dataset 2:\", std2)\n",
    "\n",
    "# 20. Visualize covariance using a heatmap\n",
    "cov_matrix = df.cov()\n",
    "sns.heatmap(cov_matrix, annot=True, cmap=\"coolwarm\")\n",
    "plt.title(\"Covariance Matrix Heatmap\")\n",
    "plt.show()\n",
    "\n",
    "# 21. Use seaborn to create a correlation matrix for a dataset\n",
    "corr_matrix = df.corr()\n",
    "sns.heatmap(corr_matrix, annot=True, cmap=\"coolwarm\", linewidths=0.5)\n",
    "plt.title(\"Correlation Matrix Heatmap\")\n",
    "plt.show()\n",
    "\n",
    "# 22. Generate a dataset and implement both variance and standard deviation computations\n",
    "data_vals = [10, 20, 30, 40, 50]\n",
    "variance = np.var(data_vals, ddof=1)\n",
    "std_dev = np.std(data_vals, ddof=1)\n",
    "print(\"Variance:\", variance)\n",
    "print(\"Standard Deviation:\", std_dev)\n",
    "\n",
    "# 23. Visualize skewness and kurtosis using Python libraries like matplotlib or seaborn\n",
    "data_skew = np.random.normal(50, 10, 1000)\n",
    "sns.histplot(data_skew, kde=True)\n",
    "plt.title(\"Histogram for Skewness and Kurtosis\")\n",
    "plt.show()\n",
    "print(\"Skewness:\", skew(data_skew))\n",
    "print(\"Kurtosis:\", kurtosis(data_skew))\n",
    "\n",
    "# 24. Implement the Pearson and Spearman correlation coefficients for a dataset\n",
    "x = np.random.rand(10)\n",
    "y = np.random.rand(10)\n",
    "pearson_corr, _ = pearsonr(x, y)\n",
    "spearman_corr, _ = spearmanr(x, y)\n",
    "print(\"Pearson Correlation:\", pearson_corr)\n",
    "print(\"Spearman Correlation:\", spearman_corr)\n"
   ]
  }
 ],
 "metadata": {
  "kernelspec": {
   "display_name": "Python 3",
   "language": "python",
   "name": "python3"
  },
  "language_info": {
   "codemirror_mode": {
    "name": "ipython",
    "version": 3
   },
   "file_extension": ".py",
   "mimetype": "text/x-python",
   "name": "python",
   "nbconvert_exporter": "python",
   "pygments_lexer": "ipython3",
   "version": "3.10.2"
  }
 },
 "nbformat": 4,
 "nbformat_minor": 5
}
