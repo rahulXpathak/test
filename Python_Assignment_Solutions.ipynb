{
 "cells": [
  {
   "cell_type": "markdown",
   "id": "29bcb169",
   "metadata": {},
   "source": [
    "# Python Assignment Solutions"
   ]
  },
  {
   "cell_type": "markdown",
   "id": "dbe372d7",
   "metadata": {},
   "source": [
    "### Theory Question 1: Difference Between Function and Method in Python"
   ]
  },
  {
   "cell_type": "code",
   "execution_count": null,
   "id": "f6184f8c",
   "metadata": {},
   "outputs": [],
   "source": [
    "\n",
    "# Function\n",
    "def greet():\n",
    "    return \"Hello!\"\n",
    "\n",
    "# Method\n",
    "class Greeter:\n",
    "    def greet(self):\n",
    "        return \"Hello!\"\n",
    "    "
   ]
  },
  {
   "cell_type": "markdown",
   "id": "173eb253",
   "metadata": {},
   "source": [
    "### Theory Question 2: Function Arguments and Parameters"
   ]
  },
  {
   "cell_type": "code",
   "execution_count": null,
   "id": "19275e09",
   "metadata": {},
   "outputs": [],
   "source": [
    "\n",
    "def add(a, b):  # Parameters\n",
    "    return a + b\n",
    "\n",
    "result = add(5, 10)  # Arguments\n",
    "print(result)\n",
    "    "
   ]
  },
  {
   "cell_type": "markdown",
   "id": "e69f36cf",
   "metadata": {},
   "source": [
    "### Theory Question 3: Ways to Define and Call Functions in Python"
   ]
  },
  {
   "cell_type": "code",
   "execution_count": null,
   "id": "e5e7a4b2",
   "metadata": {},
   "outputs": [],
   "source": [
    "\n",
    "# Define a function\n",
    "def greet(name):\n",
    "    return f\"Hello, {name}!\"\n",
    "\n",
    "# Call a function\n",
    "print(greet(\"Alice\"))\n",
    "    "
   ]
  },
  {
   "cell_type": "markdown",
   "id": "3939c010",
   "metadata": {},
   "source": [
    "### Theory Question 4: Purpose of the `return` Statement in Python"
   ]
  },
  {
   "cell_type": "code",
   "execution_count": null,
   "id": "c91e0aeb",
   "metadata": {},
   "outputs": [],
   "source": [
    "\n",
    "def square(num):\n",
    "    return num ** 2\n",
    "\n",
    "print(square(5))  # Output: 25\n",
    "    "
   ]
  },
  {
   "cell_type": "markdown",
   "id": "4c9e49b8",
   "metadata": {},
   "source": [
    "### Theory Question 5: Iterators vs Iterables"
   ]
  },
  {
   "cell_type": "code",
   "execution_count": null,
   "id": "aa59a68a",
   "metadata": {},
   "outputs": [],
   "source": [
    "\n",
    "my_list = [1, 2, 3]  # Iterable\n",
    "iterator = iter(my_list)  # Create iterator\n",
    "print(next(iterator))  # Output: 1\n",
    "    "
   ]
  },
  {
   "cell_type": "markdown",
   "id": "2c054d3b",
   "metadata": {},
   "source": [
    "### Theory Question 6: Generators in Python"
   ]
  },
  {
   "cell_type": "code",
   "execution_count": null,
   "id": "61415675",
   "metadata": {},
   "outputs": [],
   "source": [
    "\n",
    "def count_up_to(n):\n",
    "    for i in range(1, n + 1):\n",
    "        yield i\n",
    "\n",
    "for number in count_up_to(5):\n",
    "    print(number)\n",
    "    "
   ]
  },
  {
   "cell_type": "markdown",
   "id": "0960e501",
   "metadata": {},
   "source": [
    "### Theory Question 7: Advantages of Generators"
   ]
  },
  {
   "cell_type": "markdown",
   "id": "20b5a0c8",
   "metadata": {},
   "source": [
    "1. Memory-efficient: Generators don't store all values in memory.\n",
    "2. Enables lazy evaluation: Generates values on demand.\n"
   ]
  },
  {
   "cell_type": "markdown",
   "id": "dfa8f08e",
   "metadata": {},
   "source": [
    "### Theory Question 8: Lambda Functions in Python"
   ]
  },
  {
   "cell_type": "code",
   "execution_count": null,
   "id": "7dff6291",
   "metadata": {},
   "outputs": [],
   "source": [
    "\n",
    "square = lambda x: x ** 2\n",
    "print(square(5))  # Output: 25\n",
    "    "
   ]
  },
  {
   "cell_type": "markdown",
   "id": "fe4ef958",
   "metadata": {},
   "source": [
    "### Theory Question 9: Purpose of `map()` Function"
   ]
  },
  {
   "cell_type": "code",
   "execution_count": null,
   "id": "1a400afb",
   "metadata": {},
   "outputs": [],
   "source": [
    "\n",
    "nums = [1, 2, 3]\n",
    "squared = map(lambda x: x ** 2, nums)\n",
    "print(list(squared))  # Output: [1, 4, 9]\n",
    "    "
   ]
  },
  {
   "cell_type": "markdown",
   "id": "f8cdde30",
   "metadata": {},
   "source": [
    "### Theory Question 10: Difference Between `map()`, `reduce()`, and `filter()`"
   ]
  },
  {
   "cell_type": "markdown",
   "id": "5f0b95ed",
   "metadata": {},
   "source": [
    "- **`map()`**: Applies a function to each item in an iterable.\n",
    "- **`filter()`**: Filters elements based on a condition.\n",
    "- **`reduce()`**: Aggregates elements to a single value.\n"
   ]
  },
  {
   "cell_type": "markdown",
   "id": "89f1fbc5",
   "metadata": {},
   "source": [
    "### Theory Question 11: Internal Mechanism for `reduce()`"
   ]
  },
  {
   "cell_type": "code",
   "execution_count": null,
   "id": "18a0c3aa",
   "metadata": {},
   "outputs": [],
   "source": [
    "\n",
    "from functools import reduce\n",
    "\n",
    "nums = [47, 11, 42, 13]\n",
    "result = reduce(lambda x, y: x + y, nums)\n",
    "print(result)  # Output: 113\n",
    "    "
   ]
  },
  {
   "cell_type": "markdown",
   "id": "96bf6f5b",
   "metadata": {},
   "source": [
    "### Practical Question 1: Sum of Even Numbers in a List"
   ]
  },
  {
   "cell_type": "code",
   "execution_count": null,
   "id": "304ac88d",
   "metadata": {},
   "outputs": [],
   "source": [
    "\n",
    "def sum_even(numbers):\n",
    "    return sum(num for num in numbers if num % 2 == 0)\n",
    "\n",
    "print(sum_even([1, 2, 3, 4]))  # Output: 6\n",
    "    "
   ]
  },
  {
   "cell_type": "markdown",
   "id": "02a484be",
   "metadata": {},
   "source": [
    "### Practical Question 2: Reverse a String"
   ]
  },
  {
   "cell_type": "code",
   "execution_count": null,
   "id": "dd7d997a",
   "metadata": {},
   "outputs": [],
   "source": [
    "\n",
    "def reverse_string(s):\n",
    "    return s[::-1]\n",
    "\n",
    "print(reverse_string(\"hello\"))  # Output: \"olleh\"\n",
    "    "
   ]
  },
  {
   "cell_type": "markdown",
   "id": "83243597",
   "metadata": {},
   "source": [
    "### Practical Question 3: Squares of Integers in a List"
   ]
  },
  {
   "cell_type": "code",
   "execution_count": null,
   "id": "e333e5e5",
   "metadata": {},
   "outputs": [],
   "source": [
    "\n",
    "def square_list(numbers):\n",
    "    return [num ** 2 for num in numbers]\n",
    "\n",
    "print(square_list([1, 2, 3]))  # Output: [1, 4, 9]\n",
    "    "
   ]
  },
  {
   "cell_type": "markdown",
   "id": "e130c729",
   "metadata": {},
   "source": [
    "### Practical Question 4: Prime Number Checker"
   ]
  },
  {
   "cell_type": "code",
   "execution_count": null,
   "id": "c9da53b5",
   "metadata": {},
   "outputs": [],
   "source": [
    "\n",
    "def is_prime(num):\n",
    "    if num < 2:\n",
    "        return False\n",
    "    for i in range(2, int(num ** 0.5) + 1):\n",
    "        if num % i == 0:\n",
    "            return False\n",
    "    return True\n",
    "\n",
    "print([n for n in range(1, 201) if is_prime(n)])\n",
    "    "
   ]
  },
  {
   "cell_type": "markdown",
   "id": "20256a5b",
   "metadata": {},
   "source": [
    "### Practical Question 5: Fibonacci Iterator"
   ]
  },
  {
   "cell_type": "code",
   "execution_count": null,
   "id": "431b885a",
   "metadata": {},
   "outputs": [],
   "source": [
    "\n",
    "class Fibonacci:\n",
    "    def __init__(self, terms):\n",
    "        self.terms = terms\n",
    "        self.a, self.b = 0, 1\n",
    "        self.count = 0\n",
    "\n",
    "    def __iter__(self):\n",
    "        return self\n",
    "\n",
    "    def __next__(self):\n",
    "        if self.count >= self.terms:\n",
    "            raise StopIteration\n",
    "        self.count += 1\n",
    "        value = self.a\n",
    "        self.a, self.b = self.b, self.a + self.b\n",
    "        return value\n",
    "\n",
    "fib = Fibonacci(10)\n",
    "print(list(fib))\n",
    "    "
   ]
  },
  {
   "cell_type": "markdown",
   "id": "ceab4132",
   "metadata": {},
   "source": [
    "### Practical Question 6: Generator for Powers of 2"
   ]
  },
  {
   "cell_type": "code",
   "execution_count": null,
   "id": "6bc4db21",
   "metadata": {},
   "outputs": [],
   "source": [
    "\n",
    "def powers_of_2(n):\n",
    "    for i in range(n + 1):\n",
    "        yield 2 ** i\n",
    "\n",
    "print(list(powers_of_2(5)))\n",
    "    "
   ]
  },
  {
   "cell_type": "markdown",
   "id": "fcabfb36",
   "metadata": {},
   "source": [
    "### Practical Question 7: File Line Generator"
   ]
  },
  {
   "cell_type": "code",
   "execution_count": null,
   "id": "5e7c9069",
   "metadata": {},
   "outputs": [],
   "source": [
    "\n",
    "def read_lines(filename):\n",
    "    with open(filename) as file:\n",
    "        for line in file:\n",
    "            yield line.strip()\n",
    "    "
   ]
  },
  {
   "cell_type": "markdown",
   "id": "0c706812",
   "metadata": {},
   "source": [
    "### Practical Question 8: Sort Tuples by Second Element"
   ]
  },
  {
   "cell_type": "code",
   "execution_count": null,
   "id": "c3e0d876",
   "metadata": {},
   "outputs": [],
   "source": [
    "\n",
    "tuples = [(1, 3), (2, 1), (4, 2)]\n",
    "sorted_tuples = sorted(tuples, key=lambda x: x[1])\n",
    "print(sorted_tuples)  # Output: [(2, 1), (4, 2), (1, 3)]\n",
    "    "
   ]
  },
  {
   "cell_type": "markdown",
   "id": "0a9f9a6f",
   "metadata": {},
   "source": [
    "### Practical Question 9: Convert Celsius to Fahrenheit"
   ]
  },
  {
   "cell_type": "code",
   "execution_count": null,
   "id": "8c8d399e",
   "metadata": {},
   "outputs": [],
   "source": [
    "\n",
    "temps_c = [0, 20, 30]\n",
    "temps_f = list(map(lambda c: c * 9 / 5 + 32, temps_c))\n",
    "print(temps_f)  # Output: [32.0, 68.0, 86.0]\n",
    "    "
   ]
  },
  {
   "cell_type": "markdown",
   "id": "a280f8e8",
   "metadata": {},
   "source": [
    "### Practical Question 10: Remove Vowels Using `filter()`"
   ]
  },
  {
   "cell_type": "code",
   "execution_count": null,
   "id": "9895c42f",
   "metadata": {},
   "outputs": [],
   "source": [
    "\n",
    "def remove_vowels(s):\n",
    "    vowels = \"aeiouAEIOU\"\n",
    "    return \"\".join(filter(lambda x: x not in vowels, s))\n",
    "\n",
    "print(remove_vowels(\"hello world\"))  # Output: \"hll wrld\"\n",
    "    "
   ]
  },
  {
   "cell_type": "markdown",
   "id": "c4f9a882",
   "metadata": {},
   "source": [
    "### Practical Question 11: Accounting Routine with `map()`"
   ]
  },
  {
   "cell_type": "code",
   "execution_count": null,
   "id": "e6c183f5",
   "metadata": {},
   "outputs": [],
   "source": [
    "\n",
    "orders = [\n",
    "    [34587, 4, 15.99],\n",
    "    [98762, 3, 25.49],\n",
    "    [77226, 2, 10.99],\n",
    "    [88112, 1, 5.49]\n",
    "]\n",
    "\n",
    "result = list(map(lambda x: (x[0], x[1] * x[2] + 10 if x[1] * x[2] < 100 else x[1] * x[2]), orders))\n",
    "print(result)\n",
    "    "
   ]
  }
 ],
 "metadata": {},
 "nbformat": 4,
 "nbformat_minor": 5
}
